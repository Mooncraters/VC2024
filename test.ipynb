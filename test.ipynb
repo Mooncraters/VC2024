{
 "cells": [
  {
   "cell_type": "code",
   "execution_count": null,
   "metadata": {},
   "outputs": [],
   "source": [
    "# attemption to classify the circles\n",
    "import cv2 as cv\n",
    "import numpy as np\n",
    "import os\n",
    "# read the image set\n",
    "def load_images_from_folder(folder):\n",
    "    images = []\n",
    "    filenames = []\n",
    "    \n",
    "    # 遍历文件夹中的所有文件\n",
    "    for root, dirs, files in os.walk(folder):\n",
    "        for file in sorted(files):\n",
    "            if file.endswith(\".png\"):\n",
    "                filenames.append(file)\n",
    "                img = cv.imread(os.path.join(root, file))\n",
    "                if img is not None:\n",
    "                    images.append(img)\n",
    "    \n",
    "    return filenames, images\n",
    "# 文件夹路径\n",
    "folder_path = './data/Train/0/'\n",
    "\n",
    "# 读取文件夹中的所有图像\n",
    "filenames, images = load_images_from_folder(folder_path)"
   ]
  },
  {
   "cell_type": "code",
   "execution_count": null,
   "metadata": {},
   "outputs": [],
   "source": [
    "import matplotlib.pyplot as plt\n",
    "sum, total = 0, 0\n",
    "def detect_circles(image):\n",
    "    gray = cv.cvtColor(image, cv.COLOR_BGR2GRAY)\n",
    "    gray = cv.GaussianBlur(gray, (3,3), 10)\n",
    "    equ = cv.equalizeHist(gray)\n",
    "    # 高斯模糊去噪声\n",
    "\n",
    "    # Canny 边缘检测\n",
    "    edge = cv.Canny(equ, threshold1=30, threshold2=100)\n",
    "    # 形态学操作，开运算去除小的噪声点\n",
    "    # kernel = np.ones((3, 3), np.uint8)\n",
    "    # edge = cv.morphologyEx(edge, cv.MORPH_OPEN, kernel)\n",
    "    circles = cv.HoughCircles(edge, cv.HOUGH_GRADIENT, dp=1.2, minDist=30, param1=50, param2=30)\n",
    "    return circles\n",
    "\n",
    "for image in images:\n",
    "    circles = detect_circles(image)\n",
    "    total += 1\n",
    "    if circles is not None:\n",
    "        sum += 1\n",
    "    else:\n",
    "        image_rgb = cv.cvtColor(image, cv.COLOR_BGR2RGB)\n",
    "        # 使用 Matplotlib 展示图像\n",
    "        plt.imshow(image_rgb)\n",
    "        plt.axis('off')  # 关闭坐标轴\n",
    "        plt.show()\n",
    "        \n",
    "print(sum, total)"
   ]
  },
  {
   "cell_type": "code",
   "execution_count": null,
   "metadata": {},
   "outputs": [],
   "source": [
    "print(f\"{sum/total*100:.2f}%\")"
   ]
  },
  {
   "cell_type": "code",
   "execution_count": 2,
   "metadata": {},
   "outputs": [],
   "source": [
    "from prepoccess.load_image import load_train_images\n",
    "\n",
    "all_images,all_labels = load_train_images('data/Train/')\n"
   ]
  },
  {
   "cell_type": "code",
   "execution_count": 3,
   "metadata": {},
   "outputs": [
    {
     "name": "stdout",
     "output_type": "stream",
     "text": [
      "['0', '1', '2', '3', '4', '5', '6', '7', '8', '9', '10', '11', '12', '13', '14', '15', '16', '17', '18', '19', '20', '21', '22', '23', '24', '25', '26', '27', '28', '29', '30', '31', '32', '33', '34', '35', '36', '37', '38', '39', '40', '41', '42']\n"
     ]
    }
   ],
   "source": [
    "print(all_labels)"
   ]
  }
 ],
 "metadata": {
  "kernelspec": {
   "display_name": "sklearn-env",
   "language": "python",
   "name": "sklearn-env"
  },
  "language_info": {
   "codemirror_mode": {
    "name": "ipython",
    "version": 3
   },
   "file_extension": ".py",
   "mimetype": "text/x-python",
   "name": "python",
   "nbconvert_exporter": "python",
   "pygments_lexer": "ipython3",
   "version": "3.10.6"
  }
 },
 "nbformat": 4,
 "nbformat_minor": 2
}
